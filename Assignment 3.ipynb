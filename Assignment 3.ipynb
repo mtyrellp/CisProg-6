{
 "cells": [
  {
   "cell_type": "code",
   "execution_count": 2,
   "id": "d09fd214",
   "metadata": {},
   "outputs": [
    {
     "name": "stdout",
     "output_type": "stream",
     "text": [
      "     ï»¿Votes  Rating                                  Title  Year  Decade\n",
      "0       88355     8.4                                      M  1931    1930\n",
      "1      132823     8.3                    Singin' in the Rain  1952    1950\n",
      "2       74178     8.3                          All About Eve  1950    1950\n",
      "3      635139     8.6                                  LÃ©on  1994    1990\n",
      "4      145514     8.2                       The Elephant Man  1980    1980\n",
      "..        ...     ...                                    ...   ...     ...\n",
      "245   1078416     8.7                           Forrest Gump  1994    1990\n",
      "246     31003     8.1                  Le salaire de la peur  1953    1950\n",
      "247    167076     8.2                               3 Idiots  2009    2000\n",
      "248     91689     8.1                                Network  1976    1970\n",
      "249    589477     8.3  Eternal Sunshine of the Spotless Mind  2004    2000\n",
      "\n",
      "[250 rows x 5 columns]\n"
     ]
    }
   ],
   "source": [
    "import pandas as pd\n",
    "import numpy as np\n",
    "\n",
    "x = pd.read_csv(\"imdb-1.csv\", encoding = 'unicode_escape', engine ='python')\n",
    "\n",
    "print(x)"
   ]
  },
  {
   "cell_type": "markdown",
   "id": "58f7e0a0",
   "metadata": {},
   "source": [
    "Sorts the list by the Rating column. Takes the first values as highest rated."
   ]
  },
  {
   "cell_type": "code",
   "execution_count": 11,
   "id": "fa089c22",
   "metadata": {},
   "outputs": [
    {
     "name": "stdout",
     "output_type": "stream",
     "text": [
      "The highest rated movie is:  The Godfather\n",
      "\n",
      " ï»¿Votes          1027398\n",
      "Rating                9.2\n",
      "Title       The Godfather\n",
      "Year                 1972\n",
      "Decade               1970\n",
      "Name: 22, dtype: object\n"
     ]
    }
   ],
   "source": [
    "sort_Ratings = x.sort_values(by='Rating', ascending = False)\n",
    "print(\"The highest rated movie is: \", sort_Ratings.iloc[0]['Title'])\n",
    "print('\\n',sort_Ratings.iloc[0])"
   ]
  },
  {
   "cell_type": "markdown",
   "id": "cd6bbbf9",
   "metadata": {},
   "source": [
    "Sort the table now by year of release"
   ]
  },
  {
   "cell_type": "code",
   "execution_count": 14,
   "id": "b961c930",
   "metadata": {
    "scrolled": true
   },
   "outputs": [
    {
     "name": "stdout",
     "output_type": "stream",
     "text": [
      "The earliest movie released is:  The Kid\n",
      "ï»¿Votes      55784\n",
      "Rating          8.3\n",
      "Title       The Kid\n",
      "Year           1921\n",
      "Decade         1920\n",
      "Name: 173, dtype: object\n"
     ]
    }
   ],
   "source": [
    "sort_Year = x.sort_values(by='Year' , ascending = True)\n",
    "earliest_movie = sort_Year.iloc[0]\n",
    "print(\"The earliest movie released is: \",earliest_movie['Title'])\n",
    "print(earliest_movie)"
   ]
  },
  {
   "cell_type": "markdown",
   "id": "edf13575",
   "metadata": {},
   "source": [
    "sort by rating and print the top 20\n",
    "[0:20] handles the first 20 when orgnized by rating\n"
   ]
  },
  {
   "cell_type": "code",
   "execution_count": 25,
   "id": "325acdce",
   "metadata": {},
   "outputs": [
    {
     "name": "stdout",
     "output_type": "stream",
     "text": [
      "     Rating                                              Title\n",
      "22      9.2                                      The Godfather\n",
      "53      9.2                           The Shawshank Redemption\n",
      "91      9.0                             The Godfather: Part II\n",
      "105     8.9                                       12 Angry Men\n",
      "57      8.9             Il buono, il brutto, il cattivo (1966)\n",
      "76      8.9                                    The Dark Knight\n",
      "147     8.9                                   Schindler's List\n",
      "141     8.9      The Lord of the Rings: The Return of the King\n",
      "224     8.9                                       Pulp Fiction\n",
      "178     8.8  The Lord of the Rings: The Fellowship of the Ring\n",
      "87      8.8                                         Fight Club\n",
      "129     8.7                                         The Matrix\n",
      "68      8.7              The Lord of the Rings: The Two Towers\n",
      "156     8.7     Star Wars: Episode V - The Empire Strikes Back\n",
      "189     8.7                                          Star Wars\n",
      "223     8.7                    One Flew Over the Cuckoo's Nest\n",
      "81      8.7                                          Inception\n",
      "103     8.7                                         Goodfellas\n",
      "98      8.7                               Shichinin no samurai\n",
      "245     8.7                                       Forrest Gump\n"
     ]
    }
   ],
   "source": [
    "print(sort_Ratings.iloc[0:20][['Title','Rating']]) #[[]] double brackets necessary to get two columns "
   ]
  },
  {
   "cell_type": "markdown",
   "id": "0e7b8ba5",
   "metadata": {},
   "source": [
    "Find the average rating of movies "
   ]
  },
  {
   "cell_type": "code",
   "execution_count": 33,
   "id": "58f9e1d9",
   "metadata": {
    "scrolled": true
   },
   "outputs": [
    {
     "name": "stdout",
     "output_type": "stream",
     "text": [
      "The average rating of the movies is:  8.265600000000001\n"
     ]
    }
   ],
   "source": [
    "Rating_Sum = x['Rating'].sum()\n",
    "print(\"The average rating of the movies is: \", Rating_Sum/len(sort_Ratings))\n"
   ]
  },
  {
   "cell_type": "code",
   "execution_count": 39,
   "id": "6d29cf26",
   "metadata": {},
   "outputs": [
    {
     "name": "stdout",
     "output_type": "stream",
     "text": [
      "The Average rating of movie from the 1940's :  8.257142857142856\n"
     ]
    }
   ],
   "source": [
    "#filter movies only made in 1940's\n",
    "\n",
    "movie1940 = x.query(\"Decade == 1940\")\n",
    "\n",
    "average1940 = movie1940['Rating'].sum()/len(movie1940)\n",
    "\n",
    "print(\"The Average rating of movie from the 1940's : \",average1940)"
   ]
  },
  {
   "cell_type": "code",
   "execution_count": 40,
   "id": "be5458d5",
   "metadata": {
    "scrolled": true
   },
   "outputs": [
    {
     "name": "stdout",
     "output_type": "stream",
     "text": [
      "     ï»¿Votes  Rating            Title  Year  Decade\n",
      "87    1177098     8.8       Fight Club  1999    1990\n",
      "104    735056     8.4  American Beauty  1999    1990\n",
      "115    630994     8.1  The Sixth Sense  1999    1990\n",
      "129   1073043     8.7       The Matrix  1999    1990\n",
      "149    672878     8.5   The Green Mile  1999    1990\n"
     ]
    }
   ],
   "source": [
    "ninety_nine = x.query(\"Year == 1999\")\n",
    "print(ninety_nine)"
   ]
  },
  {
   "cell_type": "code",
   "execution_count": 45,
   "id": "6be13d7e",
   "metadata": {},
   "outputs": [
    {
     "name": "stdout",
     "output_type": "stream",
     "text": [
      "     ï»¿Votes  Rating                                              Title  \\\n",
      "3      635139     8.6                                              LÃ©on   \n",
      "47     767224     8.6                           The Silence of the Lambs   \n",
      "213    242353     8.6                              It's a Wonderful Life   \n",
      "204    358305     8.6                                   La vita Ã¨ bella   \n",
      "70     689541     8.6                                       Interstellar   \n",
      "169    895411     8.6                                              Se7en   \n",
      "78     192206     8.6                            C'era una volta il West   \n",
      "242    476501     8.6                                     Cidade de Deus   \n",
      "96     656756     8.6                                 The Usual Suspects   \n",
      "223    606395     8.7                    One Flew Over the Cuckoo's Nest   \n",
      "189    770011     8.7                                          Star Wars   \n",
      "156    700283     8.7     Star Wars: Episode V - The Empire Strikes Back   \n",
      "129   1073043     8.7                                         The Matrix   \n",
      "103    644556     8.7                                         Goodfellas   \n",
      "81    1271949     8.7                                          Inception   \n",
      "68     967389     8.7              The Lord of the Rings: The Two Towers   \n",
      "98     206216     8.7                               Shichinin no samurai   \n",
      "245   1078416     8.7                                       Forrest Gump   \n",
      "87    1177098     8.8                                         Fight Club   \n",
      "178   1099087     8.8  The Lord of the Rings: The Fellowship of the Ring   \n",
      "105    384187     8.9                                       12 Angry Men   \n",
      "141   1074146     8.9      The Lord of the Rings: The Return of the King   \n",
      "147    761224     8.9                                   Schindler's List   \n",
      "76    1473049     8.9                                    The Dark Knight   \n",
      "57     447875     8.9             Il buono, il brutto, il cattivo (1966)   \n",
      "224   1166532     8.9                                       Pulp Fiction   \n",
      "91     692753     9.0                             The Godfather: Part II   \n",
      "53    1498733     9.2                           The Shawshank Redemption   \n",
      "22    1027398     9.2                                      The Godfather   \n",
      "\n",
      "     Year  Decade  \n",
      "3    1994    1990  \n",
      "47   1991    1990  \n",
      "213  1946    1940  \n",
      "204  1997    1990  \n",
      "70   2014    2010  \n",
      "169  1995    1990  \n",
      "78   1968    1960  \n",
      "242  2002    2000  \n",
      "96   1995    1990  \n",
      "223  1975    1970  \n",
      "189  1977    1970  \n",
      "156  1980    1980  \n",
      "129  1999    1990  \n",
      "103  1990    1990  \n",
      "81   2010    2010  \n",
      "68   2002    2000  \n",
      "98   1954    1950  \n",
      "245  1994    1990  \n",
      "87   1999    1990  \n",
      "178  2001    2000  \n",
      "105  1957    1950  \n",
      "141  2003    2000  \n",
      "147  1993    1990  \n",
      "76   2008    2000  \n",
      "57   1966    1960  \n",
      "224  1994    1990  \n",
      "91   1974    1970  \n",
      "53   1994    1990  \n",
      "22   1972    1970  \n"
     ]
    }
   ],
   "source": [
    "really_highly_rated = x.query(\"Rating > 8.5\")\n",
    "print(really_highly_rated.sort_values(by='Rating', ascending = True))"
   ]
  },
  {
   "cell_type": "markdown",
   "id": "d6a43e71",
   "metadata": {},
   "source": [
    "To find the average movie pf 20th century and 21st centry we need to create a table for movies before the year 2000 and a table for movie made in the year 2000 and after"
   ]
  },
  {
   "cell_type": "code",
   "execution_count": 47,
   "id": "10784855",
   "metadata": {
    "scrolled": true
   },
   "outputs": [
    {
     "name": "stdout",
     "output_type": "stream",
     "text": [
      "     ï»¿Votes  Rating                                  Title  Year  Decade\n",
      "6      441174     8.1                              Gone Girl  2014    2010\n",
      "7      850601     8.3                          Batman Begins  2005    2000\n",
      "9       46987     8.0                       Relatos salvajes  2014    2010\n",
      "11     502773     8.2                            Gran Torino  2008    2000\n",
      "13     755013     8.3                   Inglourious Basterds  2009    2000\n",
      "..        ...     ...                                    ...   ...     ...\n",
      "234    311070     8.4                               Oldeuboi  2003    2000\n",
      "239    424957     8.1                    Million Dollar Baby  2004    2000\n",
      "242    476501     8.6                         Cidade de Deus  2002    2000\n",
      "247    167076     8.2                               3 Idiots  2009    2000\n",
      "249    589477     8.3  Eternal Sunshine of the Spotless Mind  2004    2000\n",
      "\n",
      "[79 rows x 5 columns]\n",
      "     ï»¿Votes  Rating                  Title  Year  Decade\n",
      "0       88355     8.4                      M  1931    1930\n",
      "1      132823     8.3    Singin' in the Rain  1952    1950\n",
      "2       74178     8.3          All About Eve  1950    1950\n",
      "3      635139     8.6                  LÃ©on  1994    1990\n",
      "4      145514     8.2       The Elephant Man  1980    1980\n",
      "..        ...     ...                    ...   ...     ...\n",
      "243    268905     8.4           Citizen Kane  1941    1940\n",
      "244     69988     8.1                    8Â½  1963    1960\n",
      "245   1078416     8.7           Forrest Gump  1994    1990\n",
      "246     31003     8.1  Le salaire de la peur  1953    1950\n",
      "248     91689     8.1                Network  1976    1970\n",
      "\n",
      "[171 rows x 5 columns]\n"
     ]
    }
   ],
   "source": [
    "twenty_first = x.query(\"Year >= 2000\")\n",
    "twenty = x.query(\"Year < 2000\")\n",
    "print(twenty_first)\n",
    "print(twenty)"
   ]
  },
  {
   "cell_type": "code",
   "execution_count": 49,
   "id": "09ad3e44",
   "metadata": {
    "scrolled": true
   },
   "outputs": [
    {
     "name": "stdout",
     "output_type": "stream",
     "text": [
      "The average rating of movies from the 20th century:  8.278362573099415\n",
      "The average rating of movies from the 21st century:  8.237974683544303\n"
     ]
    }
   ],
   "source": [
    "Average_20th =twenty[\"Rating\"].sum()/len(twenty)\n",
    "Average_21st = twenty_first[\"Rating\"].sum()/len(twenty_first)\n",
    "\n",
    "print(\"The average rating of movies from the 20th century: \", Average_20th)\n",
    "print(\"The average rating of movies from the 21st century: \", Average_21st)"
   ]
  },
  {
   "cell_type": "code",
   "execution_count": 53,
   "id": "70f67658",
   "metadata": {},
   "outputs": [
    {
     "name": "stdout",
     "output_type": "stream",
     "text": [
      "20th century movies make up:  68.4% of the total movies\n",
      "21st century movies make up:  31.6% of the total movies\n"
     ]
    }
   ],
   "source": [
    "percent_20th = len(twenty)/len(x)\n",
    "print(\"20th century movies make up: \",str(percent_20th *100) + \"%\", \"of the total movies\")\n",
    "\n",
    "percent_21st = len(twenty_first)/len(x)\n",
    "print(\"21st century movies make up: \",str(percent_21st *100) + \"%\", \"of the total movies\")"
   ]
  }
 ],
 "metadata": {
  "kernelspec": {
   "display_name": "Python 3",
   "language": "python",
   "name": "python3"
  },
  "language_info": {
   "codemirror_mode": {
    "name": "ipython",
    "version": 3
   },
   "file_extension": ".py",
   "mimetype": "text/x-python",
   "name": "python",
   "nbconvert_exporter": "python",
   "pygments_lexer": "ipython3",
   "version": "3.8.8"
  }
 },
 "nbformat": 4,
 "nbformat_minor": 5
}
